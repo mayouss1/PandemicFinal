{
 "cells": [
  {
   "cell_type": "code",
   "execution_count": 97,
   "metadata": {},
   "outputs": [
    {
     "data": {
      "text/html": [
       "<div>\n",
       "<style scoped>\n",
       "    .dataframe tbody tr th:only-of-type {\n",
       "        vertical-align: middle;\n",
       "    }\n",
       "\n",
       "    .dataframe tbody tr th {\n",
       "        vertical-align: top;\n",
       "    }\n",
       "\n",
       "    .dataframe thead th {\n",
       "        text-align: right;\n",
       "    }\n",
       "</style>\n",
       "<table border=\"1\" class=\"dataframe\">\n",
       "  <thead>\n",
       "    <tr style=\"text-align: right;\">\n",
       "      <th></th>\n",
       "      <th>DATE_OF_INTEREST</th>\n",
       "      <th>Cases</th>\n",
       "      <th>Hospitalizations</th>\n",
       "      <th>Deaths</th>\n",
       "    </tr>\n",
       "  </thead>\n",
       "  <tbody>\n",
       "    <tr>\n",
       "      <td>0</td>\n",
       "      <td>3/2/2020</td>\n",
       "      <td>1</td>\n",
       "      <td>12</td>\n",
       "      <td>0</td>\n",
       "    </tr>\n",
       "    <tr>\n",
       "      <td>1</td>\n",
       "      <td>3/3/2020</td>\n",
       "      <td>4</td>\n",
       "      <td>10</td>\n",
       "      <td>0</td>\n",
       "    </tr>\n",
       "    <tr>\n",
       "      <td>2</td>\n",
       "      <td>3/4/2020</td>\n",
       "      <td>10</td>\n",
       "      <td>13</td>\n",
       "      <td>0</td>\n",
       "    </tr>\n",
       "    <tr>\n",
       "      <td>3</td>\n",
       "      <td>3/5/2020</td>\n",
       "      <td>2</td>\n",
       "      <td>17</td>\n",
       "      <td>0</td>\n",
       "    </tr>\n",
       "    <tr>\n",
       "      <td>4</td>\n",
       "      <td>3/6/2020</td>\n",
       "      <td>8</td>\n",
       "      <td>17</td>\n",
       "      <td>0</td>\n",
       "    </tr>\n",
       "    <tr>\n",
       "      <td>5</td>\n",
       "      <td>3/7/2020</td>\n",
       "      <td>14</td>\n",
       "      <td>9</td>\n",
       "      <td>0</td>\n",
       "    </tr>\n",
       "    <tr>\n",
       "      <td>6</td>\n",
       "      <td>3/8/2020</td>\n",
       "      <td>20</td>\n",
       "      <td>15</td>\n",
       "      <td>0</td>\n",
       "    </tr>\n",
       "    <tr>\n",
       "      <td>7</td>\n",
       "      <td>3/9/2020</td>\n",
       "      <td>54</td>\n",
       "      <td>36</td>\n",
       "      <td>0</td>\n",
       "    </tr>\n",
       "    <tr>\n",
       "      <td>8</td>\n",
       "      <td>3/10/2020</td>\n",
       "      <td>75</td>\n",
       "      <td>48</td>\n",
       "      <td>0</td>\n",
       "    </tr>\n",
       "    <tr>\n",
       "      <td>9</td>\n",
       "      <td>3/11/2020</td>\n",
       "      <td>157</td>\n",
       "      <td>72</td>\n",
       "      <td>1</td>\n",
       "    </tr>\n",
       "    <tr>\n",
       "      <td>10</td>\n",
       "      <td>3/12/2020</td>\n",
       "      <td>358</td>\n",
       "      <td>75</td>\n",
       "      <td>1</td>\n",
       "    </tr>\n",
       "    <tr>\n",
       "      <td>11</td>\n",
       "      <td>3/13/2020</td>\n",
       "      <td>621</td>\n",
       "      <td>138</td>\n",
       "      <td>0</td>\n",
       "    </tr>\n",
       "    <tr>\n",
       "      <td>12</td>\n",
       "      <td>3/14/2020</td>\n",
       "      <td>643</td>\n",
       "      <td>151</td>\n",
       "      <td>2</td>\n",
       "    </tr>\n",
       "    <tr>\n",
       "      <td>13</td>\n",
       "      <td>3/15/2020</td>\n",
       "      <td>1028</td>\n",
       "      <td>186</td>\n",
       "      <td>6</td>\n",
       "    </tr>\n",
       "    <tr>\n",
       "      <td>14</td>\n",
       "      <td>3/16/2020</td>\n",
       "      <td>2106</td>\n",
       "      <td>301</td>\n",
       "      <td>9</td>\n",
       "    </tr>\n",
       "    <tr>\n",
       "      <td>15</td>\n",
       "      <td>3/17/2020</td>\n",
       "      <td>2391</td>\n",
       "      <td>342</td>\n",
       "      <td>7</td>\n",
       "    </tr>\n",
       "    <tr>\n",
       "      <td>16</td>\n",
       "      <td>3/18/2020</td>\n",
       "      <td>2895</td>\n",
       "      <td>435</td>\n",
       "      <td>21</td>\n",
       "    </tr>\n",
       "    <tr>\n",
       "      <td>17</td>\n",
       "      <td>3/19/2020</td>\n",
       "      <td>3579</td>\n",
       "      <td>512</td>\n",
       "      <td>25</td>\n",
       "    </tr>\n",
       "    <tr>\n",
       "      <td>18</td>\n",
       "      <td>3/20/2020</td>\n",
       "      <td>3819</td>\n",
       "      <td>604</td>\n",
       "      <td>45</td>\n",
       "    </tr>\n",
       "    <tr>\n",
       "      <td>19</td>\n",
       "      <td>3/21/2020</td>\n",
       "      <td>2477</td>\n",
       "      <td>642</td>\n",
       "      <td>36</td>\n",
       "    </tr>\n",
       "    <tr>\n",
       "      <td>20</td>\n",
       "      <td>3/22/2020</td>\n",
       "      <td>2414</td>\n",
       "      <td>679</td>\n",
       "      <td>45</td>\n",
       "    </tr>\n",
       "    <tr>\n",
       "      <td>21</td>\n",
       "      <td>3/23/2020</td>\n",
       "      <td>3288</td>\n",
       "      <td>973</td>\n",
       "      <td>80</td>\n",
       "    </tr>\n",
       "    <tr>\n",
       "      <td>22</td>\n",
       "      <td>3/24/2020</td>\n",
       "      <td>4134</td>\n",
       "      <td>1045</td>\n",
       "      <td>90</td>\n",
       "    </tr>\n",
       "    <tr>\n",
       "      <td>23</td>\n",
       "      <td>3/25/2020</td>\n",
       "      <td>4495</td>\n",
       "      <td>1214</td>\n",
       "      <td>113</td>\n",
       "    </tr>\n",
       "    <tr>\n",
       "      <td>24</td>\n",
       "      <td>3/26/2020</td>\n",
       "      <td>4638</td>\n",
       "      <td>1312</td>\n",
       "      <td>173</td>\n",
       "    </tr>\n",
       "    <tr>\n",
       "      <td>25</td>\n",
       "      <td>3/27/2020</td>\n",
       "      <td>4691</td>\n",
       "      <td>1270</td>\n",
       "      <td>184</td>\n",
       "    </tr>\n",
       "    <tr>\n",
       "      <td>26</td>\n",
       "      <td>3/28/2020</td>\n",
       "      <td>3160</td>\n",
       "      <td>1225</td>\n",
       "      <td>236</td>\n",
       "    </tr>\n",
       "    <tr>\n",
       "      <td>27</td>\n",
       "      <td>3/29/2020</td>\n",
       "      <td>3206</td>\n",
       "      <td>1290</td>\n",
       "      <td>255</td>\n",
       "    </tr>\n",
       "    <tr>\n",
       "      <td>28</td>\n",
       "      <td>3/30/2020</td>\n",
       "      <td>5650</td>\n",
       "      <td>1565</td>\n",
       "      <td>277</td>\n",
       "    </tr>\n",
       "    <tr>\n",
       "      <td>29</td>\n",
       "      <td>3/31/2020</td>\n",
       "      <td>4937</td>\n",
       "      <td>1440</td>\n",
       "      <td>329</td>\n",
       "    </tr>\n",
       "    <tr>\n",
       "      <td>30</td>\n",
       "      <td>4/1/2020</td>\n",
       "      <td>4723</td>\n",
       "      <td>1437</td>\n",
       "      <td>366</td>\n",
       "    </tr>\n",
       "    <tr>\n",
       "      <td>31</td>\n",
       "      <td>4/2/2020</td>\n",
       "      <td>5460</td>\n",
       "      <td>1633</td>\n",
       "      <td>398</td>\n",
       "    </tr>\n",
       "    <tr>\n",
       "      <td>32</td>\n",
       "      <td>4/3/2020</td>\n",
       "      <td>4999</td>\n",
       "      <td>1632</td>\n",
       "      <td>420</td>\n",
       "    </tr>\n",
       "    <tr>\n",
       "      <td>33</td>\n",
       "      <td>4/4/2020</td>\n",
       "      <td>3615</td>\n",
       "      <td>1356</td>\n",
       "      <td>421</td>\n",
       "    </tr>\n",
       "    <tr>\n",
       "      <td>34</td>\n",
       "      <td>4/5/2020</td>\n",
       "      <td>3433</td>\n",
       "      <td>1337</td>\n",
       "      <td>473</td>\n",
       "    </tr>\n",
       "    <tr>\n",
       "      <td>35</td>\n",
       "      <td>4/6/2020</td>\n",
       "      <td>5957</td>\n",
       "      <td>1612</td>\n",
       "      <td>463</td>\n",
       "    </tr>\n",
       "    <tr>\n",
       "      <td>36</td>\n",
       "      <td>4/7/2020</td>\n",
       "      <td>5424</td>\n",
       "      <td>1373</td>\n",
       "      <td>487</td>\n",
       "    </tr>\n",
       "    <tr>\n",
       "      <td>37</td>\n",
       "      <td>4/8/2020</td>\n",
       "      <td>4639</td>\n",
       "      <td>1239</td>\n",
       "      <td>411</td>\n",
       "    </tr>\n",
       "    <tr>\n",
       "      <td>38</td>\n",
       "      <td>4/9/2020</td>\n",
       "      <td>3405</td>\n",
       "      <td>855</td>\n",
       "      <td>358</td>\n",
       "    </tr>\n",
       "    <tr>\n",
       "      <td>39</td>\n",
       "      <td>4/10/2020</td>\n",
       "      <td>2710</td>\n",
       "      <td>644</td>\n",
       "      <td>316</td>\n",
       "    </tr>\n",
       "    <tr>\n",
       "      <td>40</td>\n",
       "      <td>4/11/2020</td>\n",
       "      <td>1392</td>\n",
       "      <td>190</td>\n",
       "      <td>264</td>\n",
       "    </tr>\n",
       "    <tr>\n",
       "      <td>41</td>\n",
       "      <td>4/12/2020</td>\n",
       "      <td>562</td>\n",
       "      <td>5</td>\n",
       "      <td>195</td>\n",
       "    </tr>\n",
       "    <tr>\n",
       "      <td>42</td>\n",
       "      <td>4/13/2020</td>\n",
       "      <td>66</td>\n",
       "      <td>0</td>\n",
       "      <td>29</td>\n",
       "    </tr>\n",
       "  </tbody>\n",
       "</table>\n",
       "</div>"
      ],
      "text/plain": [
       "   DATE_OF_INTEREST  Cases  Hospitalizations  Deaths\n",
       "0          3/2/2020      1                12       0\n",
       "1          3/3/2020      4                10       0\n",
       "2          3/4/2020     10                13       0\n",
       "3          3/5/2020      2                17       0\n",
       "4          3/6/2020      8                17       0\n",
       "5          3/7/2020     14                 9       0\n",
       "6          3/8/2020     20                15       0\n",
       "7          3/9/2020     54                36       0\n",
       "8         3/10/2020     75                48       0\n",
       "9         3/11/2020    157                72       1\n",
       "10        3/12/2020    358                75       1\n",
       "11        3/13/2020    621               138       0\n",
       "12        3/14/2020    643               151       2\n",
       "13        3/15/2020   1028               186       6\n",
       "14        3/16/2020   2106               301       9\n",
       "15        3/17/2020   2391               342       7\n",
       "16        3/18/2020   2895               435      21\n",
       "17        3/19/2020   3579               512      25\n",
       "18        3/20/2020   3819               604      45\n",
       "19        3/21/2020   2477               642      36\n",
       "20        3/22/2020   2414               679      45\n",
       "21        3/23/2020   3288               973      80\n",
       "22        3/24/2020   4134              1045      90\n",
       "23        3/25/2020   4495              1214     113\n",
       "24        3/26/2020   4638              1312     173\n",
       "25        3/27/2020   4691              1270     184\n",
       "26        3/28/2020   3160              1225     236\n",
       "27        3/29/2020   3206              1290     255\n",
       "28        3/30/2020   5650              1565     277\n",
       "29        3/31/2020   4937              1440     329\n",
       "30         4/1/2020   4723              1437     366\n",
       "31         4/2/2020   5460              1633     398\n",
       "32         4/3/2020   4999              1632     420\n",
       "33         4/4/2020   3615              1356     421\n",
       "34         4/5/2020   3433              1337     473\n",
       "35         4/6/2020   5957              1612     463\n",
       "36         4/7/2020   5424              1373     487\n",
       "37         4/8/2020   4639              1239     411\n",
       "38         4/9/2020   3405               855     358\n",
       "39        4/10/2020   2710               644     316\n",
       "40        4/11/2020   1392               190     264\n",
       "41        4/12/2020    562                 5     195\n",
       "42        4/13/2020     66                 0      29"
      ]
     },
     "execution_count": 97,
     "metadata": {},
     "output_type": "execute_result"
    }
   ],
   "source": [
    "import pandas as pd\n",
    "import numpy as np\n",
    "import matplotlib.pyplot as plt\n",
    "nycdata = pd.read_csv('NYC data.csv')\n",
    "nycdata\n",
    "#reading in data file"
   ]
  },
  {
   "cell_type": "code",
   "execution_count": 98,
   "metadata": {},
   "outputs": [],
   "source": [
    "cases = nycdata['Cases'] #turning cases data into readable array\n",
    "cases_fit = cases[:16] #chosing section to fit the curve to\n",
    "hospital = nycdata['Hospitalizations']\n",
    "deaths = nycdata['Deaths']\n",
    "x = np.linspace(1,43,43) #creating an x array for the data plot\n",
    "x_fit = np.linspace(1,16,16) #x array for the fitted section"
   ]
  },
  {
   "cell_type": "code",
   "execution_count": 99,
   "metadata": {},
   "outputs": [
    {
     "data": {
      "image/png": "[encoded data removed]",
      "text/plain": [
       "<Figure size 432x288 with 1 Axes>"
      ]
     },
     "metadata": {
      "needs_background": "light"
     },
     "output_type": "display_data"
    }
   ],
   "source": [
    "n = nycdata.plot() #plot of full data"
   ]
  },
  {
   "cell_type": "code",
   "execution_count": 100,
   "metadata": {},
   "outputs": [
    {
     "data": {
      "text/plain": [
       "[<matplotlib.lines.Line2D at 0x2530da674c8>]"
      ]
     },
     "execution_count": 100,
     "metadata": {},
     "output_type": "execute_result"
    },
    {
     "data": {
      "image/png": "[encoded data removed]",
      "text/plain": [
       "<Figure size 432x288 with 1 Axes>"
      ]
     },
     "metadata": {
      "needs_background": "light"
     },
     "output_type": "display_data"
    }
   ],
   "source": [
    "import scipy.optimize\n",
    "def func(x_fit,a,b):\n",
    "    return a*(b**x_fit) #exponential function to fit the curve to\n",
    "popt,pcov = scipy.optimize.curve_fit(func,x_fit,cases_fit)\n",
    "a_fit = popt[0] #a value\n",
    "b_fit = popt[1] #b value\n",
    "plt.plot(x,cases)\n",
    "plt.plot(x_fit,func(x_fit,a_fit,b_fit))"
   ]
  },
  {
   "cell_type": "code",
   "execution_count": 101,
   "metadata": {},
   "outputs": [],
   "source": [
    "xx = np.linspace(1,21,21) #looking at fit on larger area of true data\n",
    "y = a_fit*(b_fit**xx)"
   ]
  },
  {
   "cell_type": "code",
   "execution_count": 102,
   "metadata": {},
   "outputs": [
    {
     "data": {
      "text/plain": [
       "[<matplotlib.lines.Line2D at 0x2530e3a2b48>]"
      ]
     },
     "execution_count": 102,
     "metadata": {},
     "output_type": "execute_result"
    },
    {
     "data": {
      "image/png": "[encoded data removed]",
      "text/plain": [
       "<Figure size 432x288 with 1 Axes>"
      ]
     },
     "metadata": {
      "needs_background": "light"
     },
     "output_type": "display_data"
    }
   ],
   "source": [
    "plt.plot(x,cases)\n",
    "plt.plot(xx,func(xx,a_fit,b_fit))"
   ]
  },
  {
   "cell_type": "code",
   "execution_count": null,
   "metadata": {},
   "outputs": [],
   "source": []
  },
  {
   "cell_type": "code",
   "execution_count": null,
   "metadata": {},
   "outputs": [],
   "source": [
    "#2:"
   ]
  },
  {
   "cell_type": "code",
   "execution_count": 124,
   "metadata": {},
   "outputs": [],
   "source": [
    "def rhs(z,t,p):\n",
    "    z = I,S,E #solution vector of state variables\n",
    "    p = rep, tinc, tinf #parameter vector\n",
    "    f = [((-rep/tinf)*I*S),((rep/tinf)*I*S - (E/tinf)),((E/tinc)-(I/tinf))]\n",
    "    return f\n",
    " #f is a function of our three differentials  "
   ]
  },
  {
   "cell_type": "code",
   "execution_count": 143,
   "metadata": {},
   "outputs": [],
   "source": [
    "from scipy.integrate import odeint\n",
    "import numpy as np\n",
    "#parameters:\n",
    "rep = 3.0\n",
    "tinc = 5.2\n",
    "tinf = 2.9\n",
    "#initial conditions:\n",
    "I0 = 2\n",
    "S0 = 500\n",
    "E0 = 1\n",
    "z0 = [I0,S0,E0]\n",
    "p = [rep,tinc,tinf]"
   ]
  },
  {
   "cell_type": "code",
   "execution_count": 144,
   "metadata": {},
   "outputs": [],
   "source": [
    "t = np.linspace(0,200,200)\n",
    "sol = odeint(rhs, z0, t, args=(p,))"
   ]
  },
  {
   "cell_type": "code",
   "execution_count": 145,
   "metadata": {},
   "outputs": [
    {
     "data": {
      "text/plain": [
       "[<matplotlib.lines.Line2D at 0x2530f7b8208>,\n",
       " <matplotlib.lines.Line2D at 0x2530f7bdd48>,\n",
       " <matplotlib.lines.Line2D at 0x2530f7bdf08>]"
      ]
     },
     "execution_count": 145,
     "metadata": {},
     "output_type": "execute_result"
    },
    {
     "data": {
      "image/png": "[encoded data removed]",
      "text/plain": [
       "<Figure size 432x288 with 1 Axes>"
      ]
     },
     "metadata": {
      "needs_background": "light"
     },
     "output_type": "display_data"
    }
   ],
   "source": [
    "plt.plot(t, sol)"
   ]
  },
  {
   "cell_type": "code",
   "execution_count": null,
   "metadata": {},
   "outputs": [],
   "source": []
  },
  {
   "cell_type": "code",
   "execution_count": 146,
   "metadata": {},
   "outputs": [],
   "source": [
    "#3:"
   ]
  },
  {
   "cell_type": "code",
   "execution_count": 150,
   "metadata": {},
   "outputs": [],
   "source": [
    "import random\n",
    "#Define the city box:\n",
    "xmax = 60\n",
    "ymax = 30\n",
    "N = 200 #population\n",
    "def start():\n",
    "    for i in range(N):\n",
    "        x = random.randrange(1,xmax,1)\n",
    "        y = random.randrange(1,ymax,1)\n",
    "    return x,y"
   ]
  },
  {
   "cell_type": "code",
   "execution_count": null,
   "metadata": {},
   "outputs": [],
   "source": [
    "#need: give balls a class? speed, type/color, etc"
   ]
  }
 ],
 "metadata": {
  "kernelspec": {
   "display_name": "Python 3",
   "language": "python",
   "name": "python3"
  },
  "language_info": {
   "codemirror_mode": {
    "name": "ipython",
    "version": 3
   },
   "file_extension": ".py",
   "mimetype": "text/x-python",
   "name": "python",
   "nbconvert_exporter": "python",
   "pygments_lexer": "ipython3",
   "version": "3.7.4"
  }
 },
 "nbformat": 4,
 "nbformat_minor": 2
}
