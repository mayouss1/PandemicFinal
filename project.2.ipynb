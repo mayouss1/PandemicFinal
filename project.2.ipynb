{
 "cells": [
  {
   "cell_type": "markdown",
   "metadata": {},
   "source": [
    "# 1: Analyzing NYC Covid-19 Data and Fitting an Exponential Curve to the Case Numbers Test the Output of No Social Distancing"
   ]
  },
  {
   "cell_type": "code",
   "execution_count": 97,
   "metadata": {},
   "outputs": [
    {
     "data": {
      "text/html": [
       "<div>\n",
       "<style scoped>\n",
       "    .dataframe tbody tr th:only-of-type {\n",
       "        vertical-align: middle;\n",
       "    }\n",
       "\n",
       "    .dataframe tbody tr th {\n",
       "        vertical-align: top;\n",
       "    }\n",
       "\n",
       "    .dataframe thead th {\n",
       "        text-align: right;\n",
       "    }\n",
       "</style>\n",
       "<table border=\"1\" class=\"dataframe\">\n",
       "  <thead>\n",
       "    <tr style=\"text-align: right;\">\n",
       "      <th></th>\n",
       "      <th>DATE_OF_INTEREST</th>\n",
       "      <th>Cases</th>\n",
       "      <th>Hospitalizations</th>\n",
       "      <th>Deaths</th>\n",
       "    </tr>\n",
       "  </thead>\n",
       "  <tbody>\n",
       "    <tr>\n",
       "      <td>0</td>\n",
       "      <td>3/2/2020</td>\n",
       "      <td>1</td>\n",
       "      <td>12</td>\n",
       "      <td>0</td>\n",
       "    </tr>\n",
       "    <tr>\n",
       "      <td>1</td>\n",
       "      <td>3/3/2020</td>\n",
       "      <td>4</td>\n",
       "      <td>10</td>\n",
       "      <td>0</td>\n",
       "    </tr>\n",
       "    <tr>\n",
       "      <td>2</td>\n",
       "      <td>3/4/2020</td>\n",
       "      <td>10</td>\n",
       "      <td>13</td>\n",
       "      <td>0</td>\n",
       "    </tr>\n",
       "    <tr>\n",
       "      <td>3</td>\n",
       "      <td>3/5/2020</td>\n",
       "      <td>2</td>\n",
       "      <td>17</td>\n",
       "      <td>0</td>\n",
       "    </tr>\n",
       "    <tr>\n",
       "      <td>4</td>\n",
       "      <td>3/6/2020</td>\n",
       "      <td>8</td>\n",
       "      <td>17</td>\n",
       "      <td>0</td>\n",
       "    </tr>\n",
       "    <tr>\n",
       "      <td>5</td>\n",
       "      <td>3/7/2020</td>\n",
       "      <td>14</td>\n",
       "      <td>9</td>\n",
       "      <td>0</td>\n",
       "    </tr>\n",
       "    <tr>\n",
       "      <td>6</td>\n",
       "      <td>3/8/2020</td>\n",
       "      <td>20</td>\n",
       "      <td>15</td>\n",
       "      <td>0</td>\n",
       "    </tr>\n",
       "    <tr>\n",
       "      <td>7</td>\n",
       "      <td>3/9/2020</td>\n",
       "      <td>54</td>\n",
       "      <td>36</td>\n",
       "      <td>0</td>\n",
       "    </tr>\n",
       "    <tr>\n",
       "      <td>8</td>\n",
       "      <td>3/10/2020</td>\n",
       "      <td>75</td>\n",
       "      <td>48</td>\n",
       "      <td>0</td>\n",
       "    </tr>\n",
       "    <tr>\n",
       "      <td>9</td>\n",
       "      <td>3/11/2020</td>\n",
       "      <td>157</td>\n",
       "      <td>72</td>\n",
       "      <td>1</td>\n",
       "    </tr>\n",
       "    <tr>\n",
       "      <td>10</td>\n",
       "      <td>3/12/2020</td>\n",
       "      <td>358</td>\n",
       "      <td>75</td>\n",
       "      <td>1</td>\n",
       "    </tr>\n",
       "    <tr>\n",
       "      <td>11</td>\n",
       "      <td>3/13/2020</td>\n",
       "      <td>621</td>\n",
       "      <td>138</td>\n",
       "      <td>0</td>\n",
       "    </tr>\n",
       "    <tr>\n",
       "      <td>12</td>\n",
       "      <td>3/14/2020</td>\n",
       "      <td>643</td>\n",
       "      <td>151</td>\n",
       "      <td>2</td>\n",
       "    </tr>\n",
       "    <tr>\n",
       "      <td>13</td>\n",
       "      <td>3/15/2020</td>\n",
       "      <td>1028</td>\n",
       "      <td>186</td>\n",
       "      <td>6</td>\n",
       "    </tr>\n",
       "    <tr>\n",
       "      <td>14</td>\n",
       "      <td>3/16/2020</td>\n",
       "      <td>2106</td>\n",
       "      <td>301</td>\n",
       "      <td>9</td>\n",
       "    </tr>\n",
       "    <tr>\n",
       "      <td>15</td>\n",
       "      <td>3/17/2020</td>\n",
       "      <td>2391</td>\n",
       "      <td>342</td>\n",
       "      <td>7</td>\n",
       "    </tr>\n",
       "    <tr>\n",
       "      <td>16</td>\n",
       "      <td>3/18/2020</td>\n",
       "      <td>2895</td>\n",
       "      <td>435</td>\n",
       "      <td>21</td>\n",
       "    </tr>\n",
       "    <tr>\n",
       "      <td>17</td>\n",
       "      <td>3/19/2020</td>\n",
       "      <td>3579</td>\n",
       "      <td>512</td>\n",
       "      <td>25</td>\n",
       "    </tr>\n",
       "    <tr>\n",
       "      <td>18</td>\n",
       "      <td>3/20/2020</td>\n",
       "      <td>3819</td>\n",
       "      <td>604</td>\n",
       "      <td>45</td>\n",
       "    </tr>\n",
       "    <tr>\n",
       "      <td>19</td>\n",
       "      <td>3/21/2020</td>\n",
       "      <td>2477</td>\n",
       "      <td>642</td>\n",
       "      <td>36</td>\n",
       "    </tr>\n",
       "    <tr>\n",
       "      <td>20</td>\n",
       "      <td>3/22/2020</td>\n",
       "      <td>2414</td>\n",
       "      <td>679</td>\n",
       "      <td>45</td>\n",
       "    </tr>\n",
       "    <tr>\n",
       "      <td>21</td>\n",
       "      <td>3/23/2020</td>\n",
       "      <td>3288</td>\n",
       "      <td>973</td>\n",
       "      <td>80</td>\n",
       "    </tr>\n",
       "    <tr>\n",
       "      <td>22</td>\n",
       "      <td>3/24/2020</td>\n",
       "      <td>4134</td>\n",
       "      <td>1045</td>\n",
       "      <td>90</td>\n",
       "    </tr>\n",
       "    <tr>\n",
       "      <td>23</td>\n",
       "      <td>3/25/2020</td>\n",
       "      <td>4495</td>\n",
       "      <td>1214</td>\n",
       "      <td>113</td>\n",
       "    </tr>\n",
       "    <tr>\n",
       "      <td>24</td>\n",
       "      <td>3/26/2020</td>\n",
       "      <td>4638</td>\n",
       "      <td>1312</td>\n",
       "      <td>173</td>\n",
       "    </tr>\n",
       "    <tr>\n",
       "      <td>25</td>\n",
       "      <td>3/27/2020</td>\n",
       "      <td>4691</td>\n",
       "      <td>1270</td>\n",
       "      <td>184</td>\n",
       "    </tr>\n",
       "    <tr>\n",
       "      <td>26</td>\n",
       "      <td>3/28/2020</td>\n",
       "      <td>3160</td>\n",
       "      <td>1225</td>\n",
       "      <td>236</td>\n",
       "    </tr>\n",
       "    <tr>\n",
       "      <td>27</td>\n",
       "      <td>3/29/2020</td>\n",
       "      <td>3206</td>\n",
       "      <td>1290</td>\n",
       "      <td>255</td>\n",
       "    </tr>\n",
       "    <tr>\n",
       "      <td>28</td>\n",
       "      <td>3/30/2020</td>\n",
       "      <td>5650</td>\n",
       "      <td>1565</td>\n",
       "      <td>277</td>\n",
       "    </tr>\n",
       "    <tr>\n",
       "      <td>29</td>\n",
       "      <td>3/31/2020</td>\n",
       "      <td>4937</td>\n",
       "      <td>1440</td>\n",
       "      <td>329</td>\n",
       "    </tr>\n",
       "    <tr>\n",
       "      <td>30</td>\n",
       "      <td>4/1/2020</td>\n",
       "      <td>4723</td>\n",
       "      <td>1437</td>\n",
       "      <td>366</td>\n",
       "    </tr>\n",
       "    <tr>\n",
       "      <td>31</td>\n",
       "      <td>4/2/2020</td>\n",
       "      <td>5460</td>\n",
       "      <td>1633</td>\n",
       "      <td>398</td>\n",
       "    </tr>\n",
       "    <tr>\n",
       "      <td>32</td>\n",
       "      <td>4/3/2020</td>\n",
       "      <td>4999</td>\n",
       "      <td>1632</td>\n",
       "      <td>420</td>\n",
       "    </tr>\n",
       "    <tr>\n",
       "      <td>33</td>\n",
       "      <td>4/4/2020</td>\n",
       "      <td>3615</td>\n",
       "      <td>1356</td>\n",
       "      <td>421</td>\n",
       "    </tr>\n",
       "    <tr>\n",
       "      <td>34</td>\n",
       "      <td>4/5/2020</td>\n",
       "      <td>3433</td>\n",
       "      <td>1337</td>\n",
       "      <td>473</td>\n",
       "    </tr>\n",
       "    <tr>\n",
       "      <td>35</td>\n",
       "      <td>4/6/2020</td>\n",
       "      <td>5957</td>\n",
       "      <td>1612</td>\n",
       "      <td>463</td>\n",
       "    </tr>\n",
       "    <tr>\n",
       "      <td>36</td>\n",
       "      <td>4/7/2020</td>\n",
       "      <td>5424</td>\n",
       "      <td>1373</td>\n",
       "      <td>487</td>\n",
       "    </tr>\n",
       "    <tr>\n",
       "      <td>37</td>\n",
       "      <td>4/8/2020</td>\n",
       "      <td>4639</td>\n",
       "      <td>1239</td>\n",
       "      <td>411</td>\n",
       "    </tr>\n",
       "    <tr>\n",
       "      <td>38</td>\n",
       "      <td>4/9/2020</td>\n",
       "      <td>3405</td>\n",
       "      <td>855</td>\n",
       "      <td>358</td>\n",
       "    </tr>\n",
       "    <tr>\n",
       "      <td>39</td>\n",
       "      <td>4/10/2020</td>\n",
       "      <td>2710</td>\n",
       "      <td>644</td>\n",
       "      <td>316</td>\n",
       "    </tr>\n",
       "    <tr>\n",
       "      <td>40</td>\n",
       "      <td>4/11/2020</td>\n",
       "      <td>1392</td>\n",
       "      <td>190</td>\n",
       "      <td>264</td>\n",
       "    </tr>\n",
       "    <tr>\n",
       "      <td>41</td>\n",
       "      <td>4/12/2020</td>\n",
       "      <td>562</td>\n",
       "      <td>5</td>\n",
       "      <td>195</td>\n",
       "    </tr>\n",
       "    <tr>\n",
       "      <td>42</td>\n",
       "      <td>4/13/2020</td>\n",
       "      <td>66</td>\n",
       "      <td>0</td>\n",
       "      <td>29</td>\n",
       "    </tr>\n",
       "  </tbody>\n",
       "</table>\n",
       "</div>"
      ],
      "text/plain": [
       "   DATE_OF_INTEREST  Cases  Hospitalizations  Deaths\n",
       "0          3/2/2020      1                12       0\n",
       "1          3/3/2020      4                10       0\n",
       "2          3/4/2020     10                13       0\n",
       "3          3/5/2020      2                17       0\n",
       "4          3/6/2020      8                17       0\n",
       "5          3/7/2020     14                 9       0\n",
       "6          3/8/2020     20                15       0\n",
       "7          3/9/2020     54                36       0\n",
       "8         3/10/2020     75                48       0\n",
       "9         3/11/2020    157                72       1\n",
       "10        3/12/2020    358                75       1\n",
       "11        3/13/2020    621               138       0\n",
       "12        3/14/2020    643               151       2\n",
       "13        3/15/2020   1028               186       6\n",
       "14        3/16/2020   2106               301       9\n",
       "15        3/17/2020   2391               342       7\n",
       "16        3/18/2020   2895               435      21\n",
       "17        3/19/2020   3579               512      25\n",
       "18        3/20/2020   3819               604      45\n",
       "19        3/21/2020   2477               642      36\n",
       "20        3/22/2020   2414               679      45\n",
       "21        3/23/2020   3288               973      80\n",
       "22        3/24/2020   4134              1045      90\n",
       "23        3/25/2020   4495              1214     113\n",
       "24        3/26/2020   4638              1312     173\n",
       "25        3/27/2020   4691              1270     184\n",
       "26        3/28/2020   3160              1225     236\n",
       "27        3/29/2020   3206              1290     255\n",
       "28        3/30/2020   5650              1565     277\n",
       "29        3/31/2020   4937              1440     329\n",
       "30         4/1/2020   4723              1437     366\n",
       "31         4/2/2020   5460              1633     398\n",
       "32         4/3/2020   4999              1632     420\n",
       "33         4/4/2020   3615              1356     421\n",
       "34         4/5/2020   3433              1337     473\n",
       "35         4/6/2020   5957              1612     463\n",
       "36         4/7/2020   5424              1373     487\n",
       "37         4/8/2020   4639              1239     411\n",
       "38         4/9/2020   3405               855     358\n",
       "39        4/10/2020   2710               644     316\n",
       "40        4/11/2020   1392               190     264\n",
       "41        4/12/2020    562                 5     195\n",
       "42        4/13/2020     66                 0      29"
      ]
     },
     "execution_count": 97,
     "metadata": {},
     "output_type": "execute_result"
    }
   ],
   "source": [
    "import pandas as pd\n",
    "import numpy as np\n",
    "import matplotlib.pyplot as plt\n",
    "nycdata = pd.read_csv('NYC data.csv')\n",
    "nycdata\n",
    "#reading in data file"
   ]
  },
  {
   "cell_type": "code",
   "execution_count": 98,
   "metadata": {},
   "outputs": [],
   "source": [
    "cases = nycdata['Cases'] #turning cases data into readable array\n",
    "cases_fit = cases[:16] #chosing section to fit the curve to\n",
    "hospital = nycdata['Hospitalizations']\n",
    "deaths = nycdata['Deaths']\n",
    "x = np.linspace(1,43,43) #creating an x array for the data plot\n",
    "x_fit = np.linspace(1,16,16) #x array for the fitted section"
   ]
  },
  {
   "cell_type": "code",
   "execution_count": 99,
   "metadata": {},
   "outputs": [
    {
     "data": {
      "image/png": "[encoded data removed]",
      "text/plain": [
       "<Figure size 432x288 with 1 Axes>"
      ]
     },
     "metadata": {
      "needs_background": "light"
     },
     "output_type": "display_data"
    }
   ],
   "source": [
    "n = nycdata.plot() #plot of full data"
   ]
  },
  {
   "cell_type": "code",
   "execution_count": 100,
   "metadata": {},
   "outputs": [
    {
     "data": {
      "text/plain": [
       "[<matplotlib.lines.Line2D at 0x2530da674c8>]"
      ]
     },
     "execution_count": 100,
     "metadata": {},
     "output_type": "execute_result"
    },
    {
     "data": {
      "image/png": "[encoded data removed]",
      "text/plain": [
       "<Figure size 432x288 with 1 Axes>"
      ]
     },
     "metadata": {
      "needs_background": "light"
     },
     "output_type": "display_data"
    }
   ],
   "source": [
    "import scipy.optimize\n",
    "def func(x_fit,a,b):\n",
    "    return a*(b**x_fit) #exponential function to fit the curve to\n",
    "popt,pcov = scipy.optimize.curve_fit(func,x_fit,cases_fit)\n",
    "a_fit = popt[0] #a value\n",
    "b_fit = popt[1] #b value\n",
    "plt.plot(x,cases)\n",
    "plt.plot(x_fit,func(x_fit,a_fit,b_fit))"
   ]
  },
  {
   "cell_type": "code",
   "execution_count": 101,
   "metadata": {},
   "outputs": [],
   "source": [
    "xx = np.linspace(1,21,21) #looking at fit on larger area of true data\n",
    "y = a_fit*(b_fit**xx)"
   ]
  },
  {
   "cell_type": "code",
   "execution_count": 102,
   "metadata": {},
   "outputs": [
    {
     "data": {
      "text/plain": [
       "[<matplotlib.lines.Line2D at 0x2530e3a2b48>]"
      ]
     },
     "execution_count": 102,
     "metadata": {},
     "output_type": "execute_result"
    },
    {
     "data": {
      "image/png": "[encoded data removed]",
      "text/plain": [
       "<Figure size 432x288 with 1 Axes>"
      ]
     },
     "metadata": {
      "needs_background": "light"
     },
     "output_type": "display_data"
    }
   ],
   "source": [
    "plt.plot(x,cases)\n",
    "plt.plot(xx,func(xx,a_fit,b_fit))"
   ]
  },
  {
   "cell_type": "code",
   "execution_count": 172,
   "metadata": {},
   "outputs": [],
   "source": [
    "#It it clear from the projection of the early exponential fit that social distancing practices were implemented to decrease \n",
    "#the cases numbers and flatten that curve. Without distancing, the cases would have kept skyrocketing exponentially. "
   ]
  },
  {
   "cell_type": "markdown",
   "metadata": {},
   "source": [
    "# 2: Implementing the SEIR Differential Models of Covid-19 Analysis"
   ]
  },
  {
   "cell_type": "code",
   "execution_count": 276,
   "metadata": {},
   "outputs": [],
   "source": [
    "def rhs(z,t,p):\n",
    "    S,E,I,R = z #solution vector of state variables\n",
    "    rep, tinc, tinf = p #parameter vector\n",
    "    f = [((-rep/tinf)*I*S),(((rep/tinf)*I*S) - (E/tinf)),((E/tinc)-(I/tinf)),(I/tinf)]\n",
    "    return f\n",
    " #f is a function of our three differentials  "
   ]
  },
  {
   "cell_type": "code",
   "execution_count": 277,
   "metadata": {},
   "outputs": [],
   "source": [
    "from scipy.integrate import odeint\n",
    "import numpy as np\n",
    "#parameters:\n",
    "rep = 3.0 #reproduction number\n",
    "tinc = 5.2 #incubation time\n",
    "tinf = 2.9 #infection time\n",
    "#initial conditions:\n",
    "I0 = 1\n",
    "S0 = 499\n",
    "E0 = 0\n",
    "R0= 0\n",
    "z0 = [S0,E0,I0,R0]\n",
    "p = [rep,tinc,tinf]"
   ]
  },
  {
   "cell_type": "code",
   "execution_count": 278,
   "metadata": {},
   "outputs": [],
   "source": [
    "t = np.linspace(0,30,100)\n",
    "sol = odeint(rhs, z0, t, args=(p,))"
   ]
  },
  {
   "cell_type": "code",
   "execution_count": 279,
   "metadata": {},
   "outputs": [
    {
     "data": {
      "text/plain": [
       "Text(0.5, 0, 'time')"
      ]
     },
     "execution_count": 279,
     "metadata": {},
     "output_type": "execute_result"
    },
    {
     "data": {
      "image/png": "[encoded data removed]",
      "text/plain": [
       "<Figure size 432x288 with 1 Axes>"
      ]
     },
     "metadata": {
      "needs_background": "light"
     },
     "output_type": "display_data"
    }
   ],
   "source": [
    "plt.plot(t, sol[:, 0], label = 'Susceptible')\n",
    "plt.plot(t, sol[:, 1], label = 'Exposed')\n",
    "plt.plot(t, sol[:, 2], label = 'Infected')\n",
    "plt.plot(t, sol[:, 3], label = 'Removed')\n",
    "plt.legend()\n",
    "plt.xlabel('time')"
   ]
  },
  {
   "cell_type": "code",
   "execution_count": 280,
   "metadata": {},
   "outputs": [],
   "source": [
    "#This is one example with initial parameters of a 3.0 reproduction rate per day, a 5.2 day incubation period and a 2.9 day \n",
    "#infectious period, which were taken from Wuhan in the Kucharski et al paper. Although it mentions dividing by population in\n",
    "# the first two differentials in the paper, that is because a number of other parameters wree involved in the paper with influx\n",
    "# of population it does not work without those (which is why the website left that factor out, and we decided to follow it). \n",
    "#Originally, the initial infectious number was set to 1 person, 0 were exposed, and the rest of the populartion was\n",
    "# susceptible, the other 499. What happens if any of these conditions are changed?"
   ]
  },
  {
   "cell_type": "code",
   "execution_count": 281,
   "metadata": {},
   "outputs": [
    {
     "data": {
      "text/plain": [
       "Text(0.5, 0, 'time')"
      ]
     },
     "execution_count": 281,
     "metadata": {},
     "output_type": "execute_result"
    },
    {
     "data": {
      "image/png": "[encoded data removed]",
      "text/plain": [
       "<Figure size 432x288 with 1 Axes>"
      ]
     },
     "metadata": {
      "needs_background": "light"
     },
     "output_type": "display_data"
    }
   ],
   "source": [
    "#Changing the incubation:\n",
    "#raising the incubation time, as was suggested by another paper\n",
    "from scipy.integrate import odeint\n",
    "import numpy as np\n",
    "#parameters:\n",
    "rep = 3.0\n",
    "tinc = 6.5\n",
    "tinf = 2.9\n",
    "#initial conditions:\n",
    "I0 = 1\n",
    "S0 = 499\n",
    "E0 = 0\n",
    "R0= 0\n",
    "z0 = [S0,E0,I0,R0]\n",
    "p = [rep,tinc,tinf]\n",
    "t = np.linspace(0,30,100)\n",
    "sol = odeint(rhs, z0, t, args=(p,))\n",
    "plt.plot(t, sol[:, 0], label = 'Susceptible')\n",
    "plt.plot(t, sol[:, 1], label = 'Exposed')\n",
    "plt.plot(t, sol[:, 2], label = 'Infected')\n",
    "plt.plot(t, sol[:, 3], label = 'Removed')\n",
    "plt.legend()\n",
    "plt.xlabel('time')"
   ]
  },
  {
   "cell_type": "code",
   "execution_count": 282,
   "metadata": {},
   "outputs": [],
   "source": [
    "#Raising the incubation period led to a drop in the height of the infected and removed curves, meaning the virus was more contained"
   ]
  },
  {
   "cell_type": "code",
   "execution_count": 283,
   "metadata": {},
   "outputs": [
    {
     "data": {
      "text/plain": [
       "Text(0.5, 0, 'time')"
      ]
     },
     "execution_count": 283,
     "metadata": {},
     "output_type": "execute_result"
    },
    {
     "data": {
      "image/png": "[encoded data removed]",
      "text/plain": [
       "<Figure size 432x288 with 1 Axes>"
      ]
     },
     "metadata": {
      "needs_background": "light"
     },
     "output_type": "display_data"
    }
   ],
   "source": [
    "#Changing the infectious:\n",
    "#raising the infectious time, as was suggested by another paper\n",
    "from scipy.integrate import odeint\n",
    "import numpy as np\n",
    "#parameters:\n",
    "rep = 3.0\n",
    "tinc = 5.2\n",
    "tinf = 10.0\n",
    "#initial conditions:\n",
    "I0 = 1\n",
    "S0 = 499\n",
    "E0 = 0\n",
    "R0= 0\n",
    "z0 = [S0,E0,I0,R0]\n",
    "p = [rep,tinc,tinf]\n",
    "t = np.linspace(0,30,100)\n",
    "sol = odeint(rhs, z0, t, args=(p,))\n",
    "plt.plot(t, sol[:, 0], label = 'Susceptible')\n",
    "plt.plot(t, sol[:, 1], label = 'Exposed')\n",
    "plt.plot(t, sol[:, 2], label = 'Infected')\n",
    "plt.plot(t, sol[:, 3], label = 'Removed')\n",
    "plt.legend()\n",
    "plt.xlabel('time')"
   ]
  },
  {
   "cell_type": "code",
   "execution_count": 284,
   "metadata": {},
   "outputs": [],
   "source": [
    "#raising the time of being infectious led to a much more gradual drop off in the number of exposed people, which dramatically\n",
    "#increased the number of people who got infected (the green curve) . Why the red has no asymptote is unknown."
   ]
  },
  {
   "cell_type": "code",
   "execution_count": 285,
   "metadata": {},
   "outputs": [
    {
     "data": {
      "text/plain": [
       "Text(0.5, 0, 'time')"
      ]
     },
     "execution_count": 285,
     "metadata": {},
     "output_type": "execute_result"
    },
    {
     "data": {
      "image/png": "[encoded data removed]",
      "text/plain": [
       "<Figure size 432x288 with 1 Axes>"
      ]
     },
     "metadata": {
      "needs_background": "light"
     },
     "output_type": "display_data"
    }
   ],
   "source": [
    "#Changing the number of intial infections:\n",
    "from scipy.integrate import odeint\n",
    "import numpy as np\n",
    "#parameters:\n",
    "rep = 3.0\n",
    "tinc = 5.2\n",
    "tinf = 2.9\n",
    "#initial conditions:\n",
    "I0 = 20\n",
    "S0 = 480\n",
    "E0 = 0\n",
    "R0= 0\n",
    "z0 = [S0,E0,I0,R0]\n",
    "p = [rep,tinc,tinf]\n",
    "t = np.linspace(0,30,100)\n",
    "sol = odeint(rhs, z0, t, args=(p,))\n",
    "plt.plot(t, sol[:, 0], label = 'Susceptible')\n",
    "plt.plot(t, sol[:, 1], label = 'Exposed')\n",
    "plt.plot(t, sol[:, 2], label = 'Infected')\n",
    "plt.plot(t, sol[:, 3], label = 'Removed')\n",
    "plt.legend()\n",
    "plt.xlabel('time')"
   ]
  },
  {
   "cell_type": "code",
   "execution_count": 286,
   "metadata": {},
   "outputs": [],
   "source": [
    "#raising the number of initial infections seems to have no effect on the infected or removed curves"
   ]
  },
  {
   "cell_type": "code",
   "execution_count": 287,
   "metadata": {},
   "outputs": [
    {
     "data": {
      "text/plain": [
       "Text(0.5, 0, 'time')"
      ]
     },
     "execution_count": 287,
     "metadata": {},
     "output_type": "execute_result"
    },
    {
     "data": {
      "image/png": "[encoded data removed]",
      "text/plain": [
       "<Figure size 432x288 with 1 Axes>"
      ]
     },
     "metadata": {
      "needs_background": "light"
     },
     "output_type": "display_data"
    }
   ],
   "source": [
    "#raising the original exposed population\n",
    "from scipy.integrate import odeint\n",
    "import numpy as np\n",
    "#parameters:\n",
    "rep = 3.0\n",
    "tinc = 5.2\n",
    "tinf = 2.9\n",
    "#initial conditions:\n",
    "I0 = 1\n",
    "S0 = 449\n",
    "E0 = 50\n",
    "R0 = 0\n",
    "z0 = [S0,E0,I0,R0]\n",
    "p = [rep,tinc,tinf]\n",
    "t = np.linspace(0,30,100)\n",
    "sol = odeint(rhs, z0, t, args=(p,))\n",
    "plt.plot(t, sol[:, 0], label = 'Susceptible')\n",
    "plt.plot(t, sol[:, 1], label = 'Exposed')\n",
    "plt.plot(t, sol[:, 2], label = 'Infected')\n",
    "plt.plot(t, sol[:, 3], label = 'Removed')\n",
    "plt.legend()\n",
    "plt.xlabel('time')"
   ]
  },
  {
   "cell_type": "code",
   "execution_count": 288,
   "metadata": {},
   "outputs": [],
   "source": [
    "#raising the number of people initially exposed decreases the peak of the susceptible populatiom as well as the value\n",
    "#when the removed curve stabilizes"
   ]
  },
  {
   "cell_type": "code",
   "execution_count": 289,
   "metadata": {},
   "outputs": [
    {
     "data": {
      "text/plain": [
       "Text(0.5, 0, 'time')"
      ]
     },
     "execution_count": 289,
     "metadata": {},
     "output_type": "execute_result"
    },
    {
     "data": {
      "image/png": "[encoded data removed]",
      "text/plain": [
       "<Figure size 432x288 with 1 Axes>"
      ]
     },
     "metadata": {
      "needs_background": "light"
     },
     "output_type": "display_data"
    }
   ],
   "source": [
    "#increasing the reproduction number\n",
    "from scipy.integrate import odeint\n",
    "import numpy as np\n",
    "#parameters:\n",
    "rep = 5.0\n",
    "tinc = 5.2\n",
    "tinf = 2.9\n",
    "#initial conditions:\n",
    "I0 = 1\n",
    "S0 = 499\n",
    "E0 = 0\n",
    "R0 = 0\n",
    "z0 = [S0,E0,I0,R0]\n",
    "p = [rep,tinc,tinf]\n",
    "t = np.linspace(0,30,100)\n",
    "sol = odeint(rhs, z0, t, args=(p,))\n",
    "plt.plot(t, sol[:, 0], label = 'Susceptible')\n",
    "plt.plot(t, sol[:, 1], label = 'Exposed')\n",
    "plt.plot(t, sol[:, 2], label = 'Infected')\n",
    "plt.plot(t, sol[:, 3], label = 'Removed')\n",
    "plt.legend()\n",
    "plt.xlabel('time')"
   ]
  },
  {
   "cell_type": "code",
   "execution_count": 275,
   "metadata": {},
   "outputs": [],
   "source": [
    "#increasing the reproduction number, of how many people one person can effect, seemed only to affect the peak shape and value\n",
    "#of the exposed population"
   ]
  },
  {
   "cell_type": "markdown",
   "metadata": {},
   "source": [
    "# 3: Implementing the Toy Ball Simulation"
   ]
  },
  {
   "cell_type": "code",
   "execution_count": 238,
   "metadata": {},
   "outputs": [
    {
     "ename": "ModuleNotFoundError",
     "evalue": "No module named 'pygame'",
     "output_type": "error",
     "traceback": [
      "\u001b[1;31m---------------------------------------------------------------------------\u001b[0m",
      "\u001b[1;31mModuleNotFoundError\u001b[0m                       Traceback (most recent call last)",
      "\u001b[1;32m<ipython-input-238-00b34cd270aa>\u001b[0m in \u001b[0;36m<module>\u001b[1;34m\u001b[0m\n\u001b[0;32m      3\u001b[0m \u001b[1;32mimport\u001b[0m \u001b[0msys\u001b[0m\u001b[1;33m\u001b[0m\u001b[1;33m\u001b[0m\u001b[0m\n\u001b[0;32m      4\u001b[0m \u001b[1;32mimport\u001b[0m \u001b[0mtime\u001b[0m\u001b[1;33m\u001b[0m\u001b[1;33m\u001b[0m\u001b[0m\n\u001b[1;32m----> 5\u001b[1;33m \u001b[1;32mimport\u001b[0m \u001b[0mpygame\u001b[0m\u001b[1;33m\u001b[0m\u001b[1;33m\u001b[0m\u001b[0m\n\u001b[0m\u001b[0;32m      6\u001b[0m \u001b[1;32mfrom\u001b[0m \u001b[0mpygame\u001b[0m\u001b[1;33m.\u001b[0m\u001b[0mlocals\u001b[0m \u001b[1;32mimport\u001b[0m \u001b[1;33m*\u001b[0m\u001b[1;33m\u001b[0m\u001b[1;33m\u001b[0m\u001b[0m\n\u001b[0;32m      7\u001b[0m \u001b[1;33m\u001b[0m\u001b[0m\n",
      "\u001b[1;31mModuleNotFoundError\u001b[0m: No module named 'pygame'"
     ]
    }
   ],
   "source": [
    "import math\n",
    "import random\n",
    "import sys\n",
    "import time\n",
    "import pygame\n",
    "from pygame.locals import *\n",
    "\n",
    "# import time\n",
    "pygame.init()\n",
    "Surface = pygame.display.set_mode((800, 600))\n",
    "\n",
    "# Create Empty lists\n",
    "circleHolder = []\n",
    "infectedNumber = 0\n",
    "recoveredNumber = 0\n",
    "t0 = 0\n",
    "t1 = 0\n",
    "totalTime = 0"
   ]
  },
  {
   "cell_type": "code",
   "execution_count": 227,
   "metadata": {},
   "outputs": [],
   "source": [
    "def main():\n",
    "    while True:\n",
    "        GetInput()\n",
    "        Move()\n",
    "        Draw()\n",
    "        CollisionDetect()"
   ]
  },
  {
   "cell_type": "code",
   "execution_count": 229,
   "metadata": {},
   "outputs": [
    {
     "ename": "NameError",
     "evalue": "name 'circleHolder' is not defined",
     "output_type": "error",
     "traceback": [
      "\u001b[1;31m---------------------------------------------------------------------------\u001b[0m",
      "\u001b[1;31mNameError\u001b[0m                                 Traceback (most recent call last)",
      "\u001b[1;32m<ipython-input-229-3d855528e4d6>\u001b[0m in \u001b[0;36m<module>\u001b[1;34m\u001b[0m\n\u001b[0;32m     21\u001b[0m \u001b[1;33m\u001b[0m\u001b[0m\n\u001b[0;32m     22\u001b[0m \u001b[1;32mfor\u001b[0m \u001b[0mx\u001b[0m \u001b[1;32min\u001b[0m \u001b[0mrange\u001b[0m\u001b[1;33m(\u001b[0m\u001b[1;36m100\u001b[0m\u001b[1;33m)\u001b[0m\u001b[1;33m:\u001b[0m\u001b[1;33m\u001b[0m\u001b[1;33m\u001b[0m\u001b[0m\n\u001b[1;32m---> 23\u001b[1;33m     \u001b[0mcircleHolder\u001b[0m\u001b[1;33m.\u001b[0m\u001b[0mappend\u001b[0m\u001b[1;33m(\u001b[0m\u001b[0mCircle\u001b[0m\u001b[1;33m(\u001b[0m\u001b[1;36m0\u001b[0m\u001b[1;33m)\u001b[0m\u001b[1;33m)\u001b[0m\u001b[1;33m\u001b[0m\u001b[1;33m\u001b[0m\u001b[0m\n\u001b[0m\u001b[0;32m     24\u001b[0m \u001b[1;32mfor\u001b[0m \u001b[0mx\u001b[0m \u001b[1;32min\u001b[0m \u001b[0mrange\u001b[0m\u001b[1;33m(\u001b[0m\u001b[1;36m1\u001b[0m\u001b[1;33m)\u001b[0m\u001b[1;33m:\u001b[0m\u001b[1;33m\u001b[0m\u001b[1;33m\u001b[0m\u001b[0m\n\u001b[0;32m     25\u001b[0m     \u001b[0mcircleHolder\u001b[0m\u001b[1;33m.\u001b[0m\u001b[0mappend\u001b[0m\u001b[1;33m(\u001b[0m\u001b[0mCircle\u001b[0m\u001b[1;33m(\u001b[0m\u001b[1;36m1\u001b[0m\u001b[1;33m)\u001b[0m\u001b[1;33m)\u001b[0m\u001b[1;33m\u001b[0m\u001b[1;33m\u001b[0m\u001b[0m\n",
      "\u001b[1;31mNameError\u001b[0m: name 'circleHolder' is not defined"
     ]
    }
   ],
   "source": [
    "class Circle:\n",
    "    def __init__(self, k=0):\n",
    "        self.radius = 5\n",
    "        self.x = random.randint(self.radius, 800 - (2 * self.radius + 10))\n",
    "        self.y = random.randint(self.radius, 600 - (2 * self.radius + 10))\n",
    "        self.speedx = 0.5 * (random.random() + 2)\n",
    "        self.speedy = 0.5 * (random.random() + 2)\n",
    "        self.Infected = False\n",
    "        self.Susceptible = False\n",
    "        self.Removed = False\n",
    "        self.NewColor = False\n",
    "        self.FirstHit = False\n",
    "        self.InfectedTime = 0\n",
    "\n",
    "        if k == 1:\n",
    "            self.Infected = True\n",
    "            self.InfectedTime = time.time()\n",
    "\n",
    "        else:\n",
    "            self.Susceptible = True\n",
    "\n",
    "for x in range(100):\n",
    "    circleHolder.append(Circle(0))\n",
    "for x in range(1):\n",
    "    circleHolder.append(Circle(1))"
   ]
  },
  {
   "cell_type": "code",
   "execution_count": 231,
   "metadata": {},
   "outputs": [],
   "source": [
    "#     Circle.NewColor = True\n",
    "#     Circle.Infected = True\n",
    "\n",
    "def CircleCollide(c1, c2):\n",
    "    global infectedNumber\n",
    "\n",
    "    C1Speed = math.sqrt((c1.speedx ** 2) + (c1.speedy ** 2))\n",
    "    XDiff = -(c1.x - c2.x)\n",
    "    YDiff = -(c1.y - c2.y)\n",
    "\n",
    "    if XDiff > 0:\n",
    "        if YDiff > 0:\n",
    "            Angle = math.degrees(math.atan(YDiff / XDiff))\n",
    "            XSpeed = -C1Speed * math.cos(math.radians(Angle))\n",
    "            YSpeed = -C1Speed * math.sin(math.radians(Angle))\n",
    "        elif YDiff < 0:\n",
    "            Angle = math.degrees(math.atan(YDiff / XDiff))\n",
    "            XSpeed = -C1Speed * math.cos(math.radians(Angle))\n",
    "            YSpeed = -C1Speed * math.sin(math.radians(Angle))\n",
    "    elif XDiff < 0:\n",
    "        if YDiff > 0:\n",
    "            Angle = 180 + math.degrees(math.atan(YDiff / XDiff))\n",
    "            XSpeed = -C1Speed * math.cos(math.radians(Angle))\n",
    "            YSpeed = -C1Speed * math.sin(math.radians(Angle))\n",
    "        elif YDiff < 0:\n",
    "            Angle = -180 + math.degrees(math.atan(YDiff / XDiff))\n",
    "            XSpeed = -C1Speed * math.cos(math.radians(Angle))\n",
    "            YSpeed = -C1Speed * math.sin(math.radians(Angle))\n",
    "    elif XDiff == 0:\n",
    "        if YDiff > 0:\n",
    "            Angle = -90\n",
    "        else:\n",
    "            Angle = 90\n",
    "        XSpeed = C1Speed * math.cos(math.radians(Angle))\n",
    "        YSpeed = C1Speed * math.sin(math.radians(Angle))\n",
    "    elif YDiff == 0:\n",
    "        if XDiff < 0:\n",
    "            Angle = 0\n",
    "        else:\n",
    "            Angle = 180\n",
    "        XSpeed = C1Speed * math.cos(math.radians(Angle))\n",
    "        YSpeed = C1Speed * math.sin(math.radians(Angle))\n",
    "    else:\n",
    "        print(\"helllo\")\n",
    "        \n",
    "    if (c1.Susceptible and c2.Infected) is True:\n",
    "        c1.NewColor = True\n",
    "        c2.NewColor = True\n",
    "        c1.FirstHit = True\n",
    "        c2.FirstHit = True\n",
    "        c1.Susceptible = False\n",
    "        c1.Infected = True\n",
    "        infectedNumber = infectedNumber + 1\n",
    "        print(\"Number of Infected: \")\n",
    "        print(infectedNumber)\n",
    "        c1.InfectedTime = time.time()\n",
    "\n",
    "    elif (c1.Infected and c2.Susceptible) is True:\n",
    "        c1.NewColor = True\n",
    "        c2.NewColor = True\n",
    "        c1.FirstHit = True\n",
    "        c2.FirstHit = True\n",
    "        c2.Susceptible = False\n",
    "        c2.Infected = True\n",
    "        infectedNumber = infectedNumber + 1\n",
    "        print(\"Number of Infected: \")\n",
    "        print(infectedNumber)\n",
    "        c2.InfectedTime = time.time()\n",
    "\n",
    "    c1.speedx = XSpeed\n",
    "    c1.speedy = YSpeed\n",
    "    pygame.display.flip()\n"
   ]
  },
  {
   "cell_type": "code",
   "execution_count": 232,
   "metadata": {},
   "outputs": [
    {
     "ename": "NameError",
     "evalue": "name 'pygame' is not defined",
     "output_type": "error",
     "traceback": [
      "\u001b[1;31m---------------------------------------------------------------------------\u001b[0m",
      "\u001b[1;31mNameError\u001b[0m                                 Traceback (most recent call last)",
      "\u001b[1;32m<ipython-input-232-f97e19f12f2b>\u001b[0m in \u001b[0;36m<module>\u001b[1;34m\u001b[0m\n\u001b[0;32m     67\u001b[0m \u001b[1;33m\u001b[0m\u001b[0m\n\u001b[0;32m     68\u001b[0m \u001b[1;33m\u001b[0m\u001b[0m\n\u001b[1;32m---> 69\u001b[1;33m \u001b[1;32mif\u001b[0m \u001b[0m__name__\u001b[0m \u001b[1;33m==\u001b[0m \u001b[1;34m'__main__'\u001b[0m\u001b[1;33m:\u001b[0m \u001b[0mmain\u001b[0m\u001b[1;33m(\u001b[0m\u001b[1;33m)\u001b[0m\u001b[1;33m\u001b[0m\u001b[1;33m\u001b[0m\u001b[0m\n\u001b[0m",
      "\u001b[1;32m<ipython-input-227-5148de426184>\u001b[0m in \u001b[0;36mmain\u001b[1;34m()\u001b[0m\n\u001b[0;32m      1\u001b[0m \u001b[1;32mdef\u001b[0m \u001b[0mmain\u001b[0m\u001b[1;33m(\u001b[0m\u001b[1;33m)\u001b[0m\u001b[1;33m:\u001b[0m\u001b[1;33m\u001b[0m\u001b[1;33m\u001b[0m\u001b[0m\n\u001b[0;32m      2\u001b[0m     \u001b[1;32mwhile\u001b[0m \u001b[1;32mTrue\u001b[0m\u001b[1;33m:\u001b[0m\u001b[1;33m\u001b[0m\u001b[1;33m\u001b[0m\u001b[0m\n\u001b[1;32m----> 3\u001b[1;33m         \u001b[0mGetInput\u001b[0m\u001b[1;33m(\u001b[0m\u001b[1;33m)\u001b[0m\u001b[1;33m\u001b[0m\u001b[1;33m\u001b[0m\u001b[0m\n\u001b[0m\u001b[0;32m      4\u001b[0m         \u001b[0mMove\u001b[0m\u001b[1;33m(\u001b[0m\u001b[1;33m)\u001b[0m\u001b[1;33m\u001b[0m\u001b[1;33m\u001b[0m\u001b[0m\n\u001b[0;32m      5\u001b[0m         \u001b[0mDraw\u001b[0m\u001b[1;33m(\u001b[0m\u001b[1;33m)\u001b[0m\u001b[1;33m\u001b[0m\u001b[1;33m\u001b[0m\u001b[0m\n",
      "\u001b[1;32m<ipython-input-232-f97e19f12f2b>\u001b[0m in \u001b[0;36mGetInput\u001b[1;34m()\u001b[0m\n\u001b[0;32m     60\u001b[0m \u001b[1;33m\u001b[0m\u001b[0m\n\u001b[0;32m     61\u001b[0m \u001b[1;32mdef\u001b[0m \u001b[0mGetInput\u001b[0m\u001b[1;33m(\u001b[0m\u001b[1;33m)\u001b[0m\u001b[1;33m:\u001b[0m\u001b[1;33m\u001b[0m\u001b[1;33m\u001b[0m\u001b[0m\n\u001b[1;32m---> 62\u001b[1;33m     \u001b[0mkeystate\u001b[0m \u001b[1;33m=\u001b[0m \u001b[0mpygame\u001b[0m\u001b[1;33m.\u001b[0m\u001b[0mkey\u001b[0m\u001b[1;33m.\u001b[0m\u001b[0mget_pressed\u001b[0m\u001b[1;33m(\u001b[0m\u001b[1;33m)\u001b[0m\u001b[1;33m\u001b[0m\u001b[1;33m\u001b[0m\u001b[0m\n\u001b[0m\u001b[0;32m     63\u001b[0m     \u001b[1;32mfor\u001b[0m \u001b[0mevent\u001b[0m \u001b[1;32min\u001b[0m \u001b[0mpygame\u001b[0m\u001b[1;33m.\u001b[0m\u001b[0mevent\u001b[0m\u001b[1;33m.\u001b[0m\u001b[0mget\u001b[0m\u001b[1;33m(\u001b[0m\u001b[1;33m)\u001b[0m\u001b[1;33m:\u001b[0m\u001b[1;33m\u001b[0m\u001b[1;33m\u001b[0m\u001b[0m\n\u001b[0;32m     64\u001b[0m         \u001b[1;32mif\u001b[0m \u001b[0mevent\u001b[0m\u001b[1;33m.\u001b[0m\u001b[0mtype\u001b[0m \u001b[1;33m==\u001b[0m \u001b[0mQUIT\u001b[0m \u001b[1;32mor\u001b[0m \u001b[0mkeystate\u001b[0m\u001b[1;33m[\u001b[0m\u001b[0mK_ESCAPE\u001b[0m\u001b[1;33m]\u001b[0m\u001b[1;33m:\u001b[0m\u001b[1;33m\u001b[0m\u001b[1;33m\u001b[0m\u001b[0m\n",
      "\u001b[1;31mNameError\u001b[0m: name 'pygame' is not defined"
     ]
    }
   ],
   "source": [
    "def Move():\n",
    "    for Circle in circleHolder:\n",
    "        Circle.x += Circle.speedx\n",
    "        Circle.y += Circle.speedy\n",
    "\n",
    "\n",
    "def CollisionDetect():\n",
    "    # hitting wall\n",
    "    for Circle in circleHolder:\n",
    "        if Circle.x < Circle.radius or Circle.x > 800 - (2 * Circle.radius + 10):\n",
    "            Circle.speedx *= -1\n",
    "        if Circle.y < Circle.radius or Circle.y > 600 - (2 * Circle.radius + 10):\n",
    "            Circle.speedy *= -1\n",
    "\n",
    "    # hitting each other\n",
    "    for Circle in circleHolder:\n",
    "        for Circle2 in circleHolder:\n",
    "            if Circle != Circle2:\n",
    "                if math.sqrt(((Circle.x - Circle2.x) ** 2) + ((Circle.y - Circle2.y) ** 2)) <= (\n",
    "                        Circle.radius + Circle2.radius):\n",
    "                    CircleCollide(Circle, Circle2)\n",
    "def Draw():\n",
    "    global t0\n",
    "    global t1\n",
    "    global totalTime\n",
    "    global infectedNumber\n",
    "    global recoveredNumber\n",
    "\n",
    "    if infectedNumber == 2:\n",
    "        t0 = time.time()\n",
    "    if infectedNumber == 100:\n",
    "        t1 = time.time()\n",
    "        totalTime = t1 - t0\n",
    "        print(totalTime)\n",
    "        infectedNumber = 101\n",
    "\n",
    "    for Circle in circleHolder:\n",
    "        if Circle.InfectedTime > 0 and Circle.Removed == False:\n",
    "            timeHolder = (time.time() - Circle.InfectedTime)\n",
    "            if 14 <= timeHolder <= 15:\n",
    "                Circle.Removed = True\n",
    "                Circle.Infected = False\n",
    "                Circle.NewColor = False\n",
    "                recoveredNumber = recoveredNumber + 1\n",
    "                print(\"Number Recovered: \")\n",
    "                print(recoveredNumber)\n",
    "\n",
    "    Surface.fill((255, 255, 255))\n",
    "    for Circle in circleHolder:\n",
    "        if Circle.NewColor:\n",
    "            pygame.draw.circle(Surface, (150, 0, 0), (int(Circle.x), int(600 - Circle.y)), Circle.radius)\n",
    "            # start timer for 10 seconds, when time runs out switch color to Removed.\n",
    "        elif Circle.Removed:\n",
    "            pygame.draw.circle(Surface, (0, 150, 0), (int(Circle.x), int(600 - Circle.y)), Circle.radius)\n",
    "        else:\n",
    "            pygame.draw.circle(Surface, (0, 0, 150), (int(Circle.x), int(600 - Circle.y)), Circle.radius)\n",
    "\n",
    "    pygame.display.flip()\n",
    "\n",
    "\n",
    "def GetInput():\n",
    "    keystate = pygame.key.get_pressed()\n",
    "    for event in pygame.event.get():\n",
    "        if event.type == QUIT or keystate[K_ESCAPE]:\n",
    "            pygame.quit();\n",
    "            sys.exit()\n",
    "\n",
    "\n",
    "if __name__ == '__main__': main()"
   ]
  },
  {
   "cell_type": "code",
   "execution_count": null,
   "metadata": {},
   "outputs": [],
   "source": []
  },
  {
   "cell_type": "code",
   "execution_count": null,
   "metadata": {},
   "outputs": [],
   "source": []
  }
 ],
 "metadata": {
  "kernelspec": {
   "display_name": "Python 3",
   "language": "python",
   "name": "python3"
  },
  "language_info": {
   "codemirror_mode": {
    "name": "ipython",
    "version": 3
   },
   "file_extension": ".py",
   "mimetype": "text/x-python",
   "name": "python",
   "nbconvert_exporter": "python",
   "pygments_lexer": "ipython3",
   "version": "3.7.4"
  }
 },
 "nbformat": 4,
 "nbformat_minor": 2
}
