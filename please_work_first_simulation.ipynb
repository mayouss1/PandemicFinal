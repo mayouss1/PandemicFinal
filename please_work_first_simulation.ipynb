import math
import random
import sys
import time
import pygame
from pygame.locals import *
import matplotlib.pyplot as plt

# The circles in this simulation are people. I will be going back and forth between the words but they mean the same
# thing.

# import time
pygame.init()  # initailizing pygame for us to use
Surface = pygame.display.set_mode((800, 600))  # Setting the size of the screen that the simulation will show up

# Create Empty lists
circleHolder = []  # Creates the array to put the circles in. There are 101 circles in this array.
infectedNumber = 0  # Setting the initial infected number to 0. This will eventually be filled with the 100 people.
# Not the 101 because that last one is initally infected. We are looking at the people this person infects.
timeHolder1 = 0  # Setting the initial time to 0. This is to normalize the time on the graphs
recoveredNumber = 0  # Setting the initial recovered number to 0. This will be filled with the 101 people recovered
t0 = 0  # Setting the t0 (time) to be 0. It will take the time when the number of infected exceeds 2.
t1 = 0  # Setting the t1 (time) to be 0. When the amount of infected people are greater than 100, it will log the time.
q = 1  # Variable that we set to 0 for if loop later in the code. This is used with timeHolder1 to normalize the
# recovered graph
totalTime = 0  # Setting this to be 0. This will eventually be the time it takes for the people to fully get infected.
infectedList = []  # The people that get infected will be added to this list so we make a graph with the data
infectedtimeList = []  # This is the time thats associated with infected list. When an infected person enters the
# infectedList, a time will enter this list so we can plot them.
recoveredList = []  # The people that get recovered will be added to this list so we make a graph with the data
recoveredtimeList = []  # This is the time thats associated with recovred list. When an recovered person enters the
# recoveredList, a time will enter this list so we can plot them.
k2 = 0  # This is setting k2 to 0. This will be used below to normalize the infected graph.


def main():  # This is the main loop that allows the simulation to continually run
    while True:
        GetInput()  # Starting the loop off with going to the GetInput() definition
        Move()  # Once the GetInput() function is done it will then go to the move definition. This is allowing the
        # circles move based off their random speed and position.
        Draw()  # Once the Move() function is done, the Draw() will start the timer and change the colors of the
        # circles when they recover. This allows for the circles to turn green after 14 seconds of them being
        # infected. This is where the plots are graphed and where the setting for the background color and colors of
        # the susceptible and infected come from.
        CollisionDetect()  # Once the Draw() function is done, the CollisionDetect function will detect if they are
        # colliding with the wall or with themselves. If they collide with themselves, itll then go to the
        # CircleCollide() definition that does the math for what direction and speed it will go based off the initial
        # speed and direction of both of the circles ( or one if its colliding with the wall).


class Circle:
    def __init__(self, k=0):
        self.radius = 7  # Setting the radius of the circles to be 7
        self.x = random.randint(self.radius, 800 - (
                2 * self.radius + 20))  # Setting the x a random position to be within the screen width that
        # we've specified above
        self.y = random.randint(self.radius, 600 - (
                2 * self.radius + 20))  # Setting the y a random position to be within the screen length that
        # we've specified above
        self.speedx = 0.5 * (
                random.random() + 2)  # Setting the speed in the x direction to be random and faster as the
        # random.random() is between 0 and 1.
        self.speedy = 0.5 * (
                random.random() + 2)  # Setting the speed in the y direction to be random and faster as the
        # random.random() is between 0 and 1.
        self.Infected = False  # Setting that there are no infected people
        self.Susceptible = False  # Setting that there are no susceptible people
        self.Green = False  # Setting that there are no removed people (green)
        self.NewColor = False  # Setting nothing red
        self.InfectedTime = 0  # Starts the timer for when each circle becomes infected.
        self.IF = 0  # This is the same as the InfectedTime but a new variable so it doesnt effect the time at which
        # the people start to recover
        self.k2 = time.time()  # This is used to normalize the infected graph.

        if k == 1:
            self.Infected = True  # This is for the initial 1 circle thats infected. This is allowing us to call this
            # one infected
            self.InfectedTime = time.time()  # This is starting the timer once the one initial infected person goes
            # through this loop.
            self.IF = time.time()  # This is a second timer for the normalization of the graph. This starts the timer
            # so that we can start graphing the infected people
        else:
            self.Susceptible = True  # The rest of the population (100) will then go through this part of the loop
            # identifying it as a susceptible circle.


for x in range(1):
    circleHolder.append(Circle(
        1))  # This is allowing only one of the circles to be identified as 1 which will go through the loop above
    # and be identified as infected.
for x in range(100):
    circleHolder.append(Circle(
        0))  # This is allowing the rest of the circles to be identified as a 0 which will go through the loop above
    # and then be identified as susceptible.


def CircleCollide(c1, c2):
    global infectedNumber  # allows infectedNumber to be a global variable.

    C1Speed = math.sqrt((c1.speedx ** 2) + (c1.speedy ** 2))  # a^2+b^2 = c^2.
    XDiff = -(c1.x - c2.x)  # This is the difference between the x in both circles
    YDiff = -(c1.y - c2.y)  # This is the difference between the y in both circles

    if XDiff > 0:  # This is the math pertaining to the direction of the circles when they hit the wall or each other.
        if YDiff > 0:
            Angle = math.degrees(math.atan(YDiff / XDiff))
            XSpeed = -C1Speed * math.cos(math.radians(Angle))
            YSpeed = -C1Speed * math.sin(math.radians(Angle))
        elif YDiff < 0:
            Angle = math.degrees(math.atan(YDiff / XDiff))
            XSpeed = -C1Speed * math.cos(math.radians(Angle))
            YSpeed = -C1Speed * math.sin(math.radians(Angle))
    elif XDiff < 0:
        if YDiff > 0:
            Angle = 180 + math.degrees(math.atan(YDiff / XDiff))
            XSpeed = -C1Speed * math.cos(math.radians(Angle))
            YSpeed = -C1Speed * math.sin(math.radians(Angle))
        elif YDiff < 0:
            Angle = -180 + math.degrees(math.atan(YDiff / XDiff))
            XSpeed = -C1Speed * math.cos(math.radians(Angle))
            YSpeed = -C1Speed * math.sin(math.radians(Angle))
    elif XDiff == 0:
        if YDiff > 0:
            Angle = -90
        else:
            Angle = 90
        XSpeed = C1Speed * math.cos(math.radians(Angle))
        YSpeed = C1Speed * math.sin(math.radians(Angle))
    elif YDiff == 0:
        if XDiff < 0:
            Angle = 0
        else:
            Angle = 180
        XSpeed = C1Speed * math.cos(math.radians(Angle))
        YSpeed = C1Speed * math.sin(math.radians(Angle))
    else:
        print("hello")

    if (c1.Susceptible and c2.Infected) is True:  # This is when a susceptible circle 1 hits an infected circle 2.
        c1.NewColor = True  # This allows circle 1 to have the color red.
        c2.NewColor = True  # This allows circle 2 to have the color red.
        c1.Susceptible = False  # This allows the identity of the susceptible circle to be false.
        c1.Infected = True  # From the last line, we've stripped its old identity and now have it identified as
        # susceptible.
        infectedNumber = infectedNumber + 1  # This allows the number of infected people to increase by 1 each time
        # it loops.
        infectedList.append(infectedNumber)  # It is now being added to the list, infectedList
        print("Number of Infected: ")  # printing an intro to the number of people infected
        print(infectedNumber)  # Printing the number of people infected
        c1.InfectedTime = time.time()  # Starting a timer for when the person gets infected
        c1.IF = time.time() - c1.k2  # This is setting another timer but allowing it to start from 0 because if you
        # just started the timer it would take the time of the CPU. This allows it to log the time that the person
        # got infected.
        infectedtimeList.append(c1.IF)  # This is appending the time to the infectedtimeList.


    elif (c1.Infected and c2.Susceptible) is True:  # This is when a infected circle 1 hits an susceptible circle 2.
        c1.NewColor = True  # This allows circle 1 to have the color red.
        c2.NewColor = True  # This allows circle 2 to have the color red.
        c2.Susceptible = False  # This allows the identity of the susceptible circle to be false.
        c2.Infected = True  # From the last line, we've stripped its old identity and now have it identified as
        # susceptible.
        infectedNumber = infectedNumber + 1  # This allows the number of infected people to increase by 1 each time
        # it loops.
        infectedList.append(infectedNumber)  # It is now being added to the list, infectedList
        print("Number of Infected: ")  # printing an intro to the number of people infected
        print(infectedNumber)  # Printing the number of people infected
        c2.InfectedTime = time.time()  # Starting a timer for when the person gets infected
        c2.IF = time.time() - c2.k2  # This is setting another timer but allowing it to start from 0 because if you
        # just started the timer it would take the time of the CPU. This allows it to log the time that the person
        # got infected.
        infectedtimeList.append(c2.IF)  # This is appending the time to the infectedtimeList.

    c1.speedx = XSpeed  # From the speed calculated above, this is replacing the old definition for xspeed because it
    # has now collidied with the wall or another circle
    c1.speedy = YSpeed  # From the speed calculated above, this is replacing the old definition for yspeed because it
    # has now collidied with the wall or another circle
    pygame.display.flip()  # Updating the display of the simulation.


def Move():  # This is moving the circle to its new position and speed
    for Circle in circleHolder:
        Circle.x += Circle.speedx
        Circle.y += Circle.speedy


def CollisionDetect():
    # This is what happens when the circle hits wall
    for Circle in circleHolder:
        if Circle.x < Circle.radius or Circle.x > 800 - (2 * Circle.radius + 10):
            Circle.speedx *= -1  # When it hits is flips its direction
        if Circle.y < Circle.radius or Circle.y > 600 - (2 * Circle.radius + 10):
            Circle.speedy *= -1  # When it hits is flips its direction

    # This detects that there is a collision between two circles hitting each other
    for Circle in circleHolder:
        for Circle2 in circleHolder:
            if Circle != Circle2:
                if math.sqrt(((Circle.x - Circle2.x) ** 2) + ((Circle.y - Circle2.y) ** 2)) <= (
                        Circle.radius + Circle2.radius):
                    CircleCollide(Circle,
                                  Circle2)  # Once it detects that it hit another circle, it sends it to the
                    # CircleCollide() definition


def Draw():
    global t0  # Creating a global variable for t0
    global t1  # Creating a global variable for t1
    global totalTime  # Creating a global variable for totalTime
    global infectedNumber  # Creating a global variable for infectdNumber
    global recoveredNumber  # Creating a global variable for recoveredNumber
    global q  # Creating a global variable for q
    global k2  # Creating a global variable for k2
    global timeHolder1  # Creating a global variable for timeHolder1

    pygame.display.set_caption('WE RULE')

    if infectedNumber == 2:  # When the number of infected people is 2, take the time
        t0 = time.time()

    if infectedNumber == 100:
        t1 = time.time()  # When the number of infected people is 100 take the time again.
        totalTime = t1 - t0  # To get the total time from the second person getting infected to the last. Second
        # becasue the first one is what gets everyone sick.
        print(totalTime)
        infectedNumber = 101  # This changes the number associated with the infectedNumber so that it wouldnt run
        # through the loop again.
        plt.plot(infectedtimeList, infectedList)  # This is plotting the infected people vs time.
        plt.xlabel("Time (s)")  # x axis label
        plt.ylabel("People Infected")  # y axid label
        plt.title("People Infected vs. Time")  # Title
        plt.show()

    for Circle in circleHolder:
        if Circle.InfectedTime > 0 and Circle.Green == False:  # If the infectedtime is above 0 and if that one
            # circle is not removed (Green), the go through the loop.
            timeHolder = (
                    time.time() - Circle.InfectedTime)  # The timeholder now is starting from zero and takes the time
            # of each of the circles that run through the code.
            if 14 <= timeHolder:  # If the timeholder is above 14 seconds, run through this loop.
                if q == 1:  # q is initially starting at 1 from the above statement. Once it goes through it once
                    # itll start the timer then no longer be able to loop because we changed q to equal 2.
                    timeHolder1 = time.time()
                    q = 2
                Circle.Green = True  # Makes the circle have a removed color (green)
                Circle.Infected = False  # Makes the identity no longer infected
                Circle.NewColor = False  # Makes the color longer blue.
                recoveredNumber = recoveredNumber + 1  # This allows the number of recovered people to increase by 1
                # each time it loops.
                print("Number Recovered: ")  # Prints the number of recovered people
                print(recoveredNumber)

                rN = 101 - recoveredNumber  # The list that subtracts from the 101 total people to show the "fall"
                # curve of the people getting recovered.
                recoveredList.append(rN)  # This is appending rN to the list recoveredList.
                t2 = time.time()  # This is the time the people first start recovering
                t3 = t2 - timeHolder1  # This is the time from 0 that the people start recovering.
                recoveredtimeList.append(t3)  # Appendint the t3 to the list of recoveredtimeList().

        if recoveredNumber == 101:  # This loop only starts when the number of recovered people is 101
            plt.plot(recoveredtimeList, recoveredList)  # This is plotting the recovered people vs time
            plt.xlabel("Time (s) after they first begin to recover")  # x label
            plt.ylabel("People Infected")  # y label
            plt.title("People Infected vs. Time")  # title
            plt.show()
            recoveredNumber = 100  # changing the number of recovered people there are so that it doent run through
            # the loop again.

    Surface.fill((255, 255, 255))  # This allows for the background of the simulation to be white.
    for Circle in circleHolder:
        if Circle.NewColor:  # This is changing the circles to red
            pygame.draw.circle(Surface, (255, 0, 0), (int(Circle.x), int(600 - Circle.y)), Circle.radius)
        elif Circle.Green:  # This is changing the circles to the color green
            pygame.draw.circle(Surface, (0, 255, 0), (int(Circle.x), int(600 - Circle.y)), Circle.radius)
        else:  # This is changing the circles to the color blue
            pygame.draw.circle(Surface, (0, 0, 255), (int(Circle.x), int(600 - Circle.y)), Circle.radius)

    pygame.display.flip()  # THis is updating the simulation.


def GetInput():  # This is allowing you to hit escape when the simulation is playing to exit the simulation.
    keystate = pygame.key.get_pressed()
    for event in pygame.event.get():
        if event.type == QUIT or keystate[K_ESCAPE]:
            pygame.quit();
            sys.exit()


if __name__ == '__main__': main()
